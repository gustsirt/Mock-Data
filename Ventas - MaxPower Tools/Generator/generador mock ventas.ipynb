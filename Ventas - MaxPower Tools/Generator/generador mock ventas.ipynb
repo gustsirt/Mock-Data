{
 "cells": [
  {
   "cell_type": "markdown",
   "metadata": {},
   "source": [
    "# Generador Mock Ventas"
   ]
  },
  {
   "cell_type": "code",
   "execution_count": 6,
   "metadata": {},
   "outputs": [],
   "source": [
    "# Importaciones\n",
    "import pandas as pd\n",
    "import numpy as np\n",
    "from datetime import datetime, timedelta\n",
    "import random"
   ]
  },
  {
   "cell_type": "code",
   "execution_count": 7,
   "metadata": {},
   "outputs": [],
   "source": [
    "# Configuración de los parámetros para el generador\n",
    "\n",
    "# Parámetros\n",
    "n_transactions = 300000  # número de transacciones (ventas)\n",
    "start_date = datetime(2024, 1, 1)\n",
    "end_date = datetime(2025, 1, 31)\n",
    "delta_days = (end_date - start_date).days + 1\n",
    "\n",
    "# Función para generar una fecha aleatoria en el rango\n",
    "def random_date():\n",
    "    random_days = np.random.randint(0, delta_days)\n",
    "    return start_date + timedelta(days=int(random_days))\n",
    "\n",
    "# Distribución de tiendas: 1,2,3 con 0.3 cada uno y 4 (outlet) con 0.1\n",
    "tiendas = [1, 2, 3, 4]\n",
    "tienda_probs = [0.3, 0.3, 0.3, 0.1]\n",
    "\n",
    "# Función para determinar el número de artículos en la venta\n",
    "def random_items_count():\n",
    "    r = random.random()\n",
    "    if r < 0.70:\n",
    "        return 1\n",
    "    elif r < 0.90:\n",
    "        return 2\n",
    "    elif r < 0.95:\n",
    "        return 3\n",
    "    elif r < 0.98:\n",
    "        return 4\n",
    "    elif r < 0.99:\n",
    "        return 5\n",
    "    else:\n",
    "        return random.randint(6, 10)\n",
    "\n",
    "# Distribución de talles: 1:10%, 2:20%, 3:40%, 4:20%, 5:10%\n",
    "talles = [1, 2, 3, 4, 5]\n",
    "talle_probs = [0.1, 0.2, 0.4, 0.2, 0.1]"
   ]
  },
  {
   "cell_type": "code",
   "execution_count": 8,
   "metadata": {},
   "outputs": [],
   "source": [
    "# Generar transacciones / Facturas\n",
    "\n",
    "# Crear una lista para guardar las transacciones (a nivel factura)\n",
    "transactions = []\n",
    "for i in range(n_transactions):\n",
    "    tienda = np.random.choice(tiendas, p=tienda_probs)\n",
    "    fecha = random_date()\n",
    "    n_items = random_items_count()\n",
    "    transactions.append({\n",
    "        \"tienda\": tienda,\n",
    "        \"fecha\": fecha,\n",
    "        \"n_items\": n_items,\n",
    "        \"trans_id\": i  # id de transacción\n",
    "    })\n",
    "\n",
    "# Crear DataFrame y ordenar por tienda y fecha\n",
    "# Asignar número de factura secuencial por tienda.\n",
    "df_trans = pd.DataFrame(transactions)\n",
    "df_trans = df_trans.sort_values(by=[\"tienda\", \"fecha\", \"trans_id\"]).reset_index(drop=True)\n",
    "\n",
    "# Inicializar diccionario para guardar el número inicial de factura para cada tienda\n",
    "invoice_start = {}\n",
    "for tienda in tiendas:\n",
    "    if tienda == 4:\n",
    "        invoice_start[tienda] = random.randint(2000, 3000)\n",
    "    else:\n",
    "        invoice_start[tienda] = random.randint(5000, 10000)\n",
    "\n",
    "# Asignar números de factura por tienda\n",
    "current_invoice = {tienda: invoice_start[tienda] for tienda in tiendas}\n",
    "facturas = []\n",
    "for idx, row in df_trans.iterrows():\n",
    "    tienda = row[\"tienda\"]\n",
    "    factura = current_invoice[tienda]\n",
    "    facturas.append(factura)\n",
    "    current_invoice[tienda] += 1\n",
    "\n",
    "df_trans[\"factura\"] = facturas"
   ]
  },
  {
   "cell_type": "code",
   "execution_count": 9,
   "metadata": {},
   "outputs": [],
   "source": [
    "# Generar líneas de venta\n",
    "\n",
    "# Expandir cada transacción en las líneas de venta (cada línea es un artículo vendido)\n",
    "sales_rows = []\n",
    "for idx, row in df_trans.iterrows():\n",
    "    for line in range(1, int(row[\"n_items\"]) + 1):\n",
    "        sales_rows.append({\n",
    "            \"empresa\": \"\",\n",
    "            \"codigoarticulo\": random.randint(1, 500),\n",
    "            \"talle\": np.random.choice(talles, p=talle_probs),\n",
    "            \"codigodeposito\": row[\"tienda\"],\n",
    "            \"tipocomprobante\": \"FB\",\n",
    "            \"numerocomprobante\": row[\"factura\"],\n",
    "            \"fechacomprobante\": row[\"fecha\"].strftime(\"%Y-%m-%d\"),\n",
    "            \"hora\": \"00:00:00\",\n",
    "            \"linea\": line,\n",
    "            \"articulos\": \"\",\n",
    "            \"cantidad\": random.randint(1, 5),\n",
    "            \"preciounitario\": \"\",\n",
    "            \"preciototal\": \"\",\n",
    "            \"descuento\": \"\",\n",
    "            \"deposito\": \"\"\n",
    "        })\n",
    "\n",
    "df_sales = pd.DataFrame(sales_rows)"
   ]
  },
  {
   "cell_type": "code",
   "execution_count": 10,
   "metadata": {},
   "outputs": [
    {
     "name": "stdout",
     "output_type": "stream",
     "text": [
      "Archivo guardado en: MOCK_DATA_Ventas.csv\n"
     ]
    }
   ],
   "source": [
    "# Guardar el mock data de ventas en un CSV\n",
    "output_file = \"MOCK_DATA_Ventas.csv\"\n",
    "df_sales.to_csv(output_file, index=False)\n",
    "\n",
    "print(f\"Archivo guardado en: {output_file}\")"
   ]
  }
 ],
 "metadata": {
  "kernelspec": {
   "display_name": "Python 3",
   "language": "python",
   "name": "python3"
  },
  "language_info": {
   "codemirror_mode": {
    "name": "ipython",
    "version": 3
   },
   "file_extension": ".py",
   "mimetype": "text/x-python",
   "name": "python",
   "nbconvert_exporter": "python",
   "pygments_lexer": "ipython3",
   "version": "3.12.9"
  }
 },
 "nbformat": 4,
 "nbformat_minor": 2
}
